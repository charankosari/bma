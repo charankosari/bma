{
 "cells": [
  {
   "cell_type": "code",
   "execution_count": null,
   "id": "8087e987",
   "metadata": {},
   "outputs": [],
   "source": [
    "##7)image compression\n",
    "from PIL import Image\n",
    "import cv2\n",
    "img = Image.open('image.png')\n",
    "img = img.convert('RGB')\n",
    "img.save('compressed.jpg', quality=30)\n"
   ]
  },
  {
   "cell_type": "code",
   "execution_count": null,
   "id": "4e5afeb5",
   "metadata": {},
   "outputs": [],
   "source": [
    "##8)video tracking\n",
    "import cv2\n",
    "cap = cv2.VideoCapture('video.mp4')\n",
    "if not cap.isOpened():\n",
    "    print(\"Error: Unable to open video.\")\n",
    "\n",
    "while cap.isOpened():\n",
    "    ret, frame = cap.read()\n",
    "    if not ret:\n",
    "        break\n",
    "    cv2.imshow(\"Video\", frame)\n",
    "    if cv2.waitKey(30) & 0xFF == ord('q'):\n",
    "        break\n",
    "\n",
    "cap.release()\n",
    "cv2.destroyAllWindows()\n"
   ]
  },
  {
   "cell_type": "code",
   "execution_count": null,
   "id": "6204165a",
   "metadata": {},
   "outputs": [],
   "source": [
    "#6)image restoration\n",
    "import cv2\n",
    "image = cv2.imread(\"flower.png\", cv2.IMREAD_GRAYSCALE)\n",
    "if image is None:\n",
    "    print(\"Error: Unable to load image.\")\n",
    "else:\n",
    "    blurred_image = cv2.GaussianBlur(image, (5, 5), 0)\n",
    "    cv2.imshow(\"Original\", image)\n",
    "    cv2.imshow(\"Restored\", blurred_image)\n",
    "    cv2.waitKey(0)\n",
    "    cv2.destroyAllWindows()"
   ]
  },
  {
   "cell_type": "code",
   "execution_count": null,
   "id": "13f1d5e3",
   "metadata": {},
   "outputs": [],
   "source": [
    "##5)a\n",
    "import cv2\n",
    "import numpy as np\n",
    "image = cv2.imread(\"flower.png\")\n",
    "shifted_image = np.roll(image, (50, 30), axis=(0, 1))\n",
    "cv2.imshow('Shifted Image', shifted_image)\n",
    "cv2.waitKey(0)\n",
    "cv2.destroyAllWindows()\n",
    "\n",
    "##5)b\n",
    "import cv2\n",
    "linear_image = cv2.imread(\"flower.png\") + 50\n",
    "cv2.imshow('Linearly Transformed Image', linear_image)\n",
    "cv2.waitKey(0)\n",
    "cv2.destroyAllWindows()\n",
    "\n",
    "\n",
    "##5)c\n",
    "import cv2\n",
    "image = cv2.imread(\"flower.png\")\n",
    "scaled_image = cv2.resize(image, None, fx=2, fy=2, interpolation=cv2.INTER_LINEAR)\n",
    "cv2.imshow('Scaled Image', scaled_image)\n",
    "cv2.waitKey(0)\n",
    "cv2.destroyAllWindows()\n",
    "\n",
    "\n",
    "##5)d\n",
    "import cv2\n",
    "image = cv2.imread(\"flower.png\")\n",
    "center = (image.shape[1] // 2, image.shape[0] // 2)\n",
    "rotation_matrix = cv2.getRotationMatrix2D(center, 30, 1)\n",
    "rotated_image = cv2.warpAffine(image, rotation_matrix, (image.shape[1], image.shape[0]))\n",
    "cv2.imshow('Rotated Image', rotated_image)\n",
    "cv2.waitKey(0)\n",
    "cv2.destroyAllWindows()\n",
    "\n",
    "##5)e\n",
    "import cv2\n",
    "image = cv2.imread(\"flower.png\", cv2.IMREAD_GRAYSCALE)\n",
    "dft = cv2.dft(np.float32(image), flags=cv2.DFT_COMPLEX_OUTPUT)\n",
    "magnitude, phase = cv2.cartToPolar(dft[:, :, 0], dft[:, :, 1])\n",
    "exchanged_dft = cv2.merge((phase, magnitude))\n",
    "exchanged_image = cv2.idft(exchanged_dft)\n",
    "exchanged_image = cv2.magnitude(exchanged_image[:, :, 0], exchanged_image[:, :, 1])\n",
    "cv2.imshow('Exchanged Magnitude-Phase', exchanged_image)\n",
    "cv2.waitKey(0)\n",
    "cv2.destroyAllWindows()\n",
    "\n"
   ]
  },
  {
   "cell_type": "code",
   "execution_count": null,
   "id": "7e32d642",
   "metadata": {},
   "outputs": [],
   "source": [
    "import os\n",
    "\n",
    "# Get current working directory\n",
    "current_directory = os.getcwd()\n",
    "print(f\"Files are being saved in: {current_directory}\")\n"
   ]
  }
 ],
 "metadata": {
  "kernelspec": {
   "display_name": "Python 3 (ipykernel)",
   "language": "python",
   "name": "python3"
  },
  "language_info": {
   "codemirror_mode": {
    "name": "ipython",
    "version": 3
   },
   "file_extension": ".py",
   "mimetype": "text/x-python",
   "name": "python",
   "nbconvert_exporter": "python",
   "pygments_lexer": "ipython3",
   "version": "3.11.2"
  }
 },
 "nbformat": 4,
 "nbformat_minor": 5
}
